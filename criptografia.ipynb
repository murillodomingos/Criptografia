{
  "nbformat": 4,
  "nbformat_minor": 0,
  "metadata": {
    "colab": {
      "provenance": [],
      "include_colab_link": true
    },
    "kernelspec": {
      "name": "python3",
      "display_name": "Python 3"
    },
    "language_info": {
      "name": "python"
    }
  },
  "cells": [
    {
      "cell_type": "markdown",
      "metadata": {
        "id": "view-in-github",
        "colab_type": "text"
      },
      "source": [
        "<a href=\"https://colab.research.google.com/github/murillodomingos/Criptografia/blob/main/criptografia.ipynb\" target=\"_parent\"><img src=\"https://colab.research.google.com/assets/colab-badge.svg\" alt=\"Open In Colab\"/></a>"
      ]
    },
    {
      "cell_type": "markdown",
      "source": [
        "# Construção de um algoritimo de criptografia a partir da \"Cifra de Hill\"\n",
        "\n",
        "\n",
        "**Integrantes**:\n",
        "\n",
        "  Bruno Neves Boa Sorte -  NºUSP: 14562528\n",
        "\n",
        "  Caio Uramoto Evangelista - NºUSP: 14777351\n",
        "\n",
        "  Murillo Domingos de Almeida - NºUSP: 14804083\n",
        "\n",
        " **Prof**: Maria Luisa Bambozzi\n",
        "\n",
        "\n",
        "\n",
        "#Funcionamento do algoritmo\n",
        "\n",
        "*   Tranformação da mensagem para números\n",
        "\n",
        "*   Agrupamento dos números\n",
        "\n",
        "*   Multiplicação por uma matriz 3 x 3, a qual será a chave\n",
        "\n",
        "*   verificação da inversibilidade da matriz chave\n",
        "\n",
        "* funções de codificação e decodificação\n",
        "\n",
        "\n",
        "\n",
        "#  objetivo\n",
        "  multiplicar a mensagem encriptada pela inversa da\n",
        "  \n",
        "  chave e obter a mensagem original\n"
      ],
      "metadata": {
        "id": "Di-myENWeQcG"
      }
    },
    {
      "cell_type": "code",
      "execution_count": null,
      "metadata": {
        "id": "QQjYMnWzL5i_"
      },
      "outputs": [],
      "source": [
        "import numpy as np # Biblioteca utilizada para facilitar operações matriciais\n",
        "import random # Utilizado para gerar chaves aleatorias\n"
      ]
    },
    {
      "cell_type": "code",
      "source": [
        "# Verifica se é inversível a matriz chave, caso a função retorne erro não é inversível\n",
        "def verifica_inversibilidade(chave):\n",
        "  matriz = chave\n",
        "\n",
        "  try:\n",
        "    inv_matriz = np.linalg.inv(matriz) #  Funcao que calcula a matriz inversa, em que, ao mutiplica-la pela original resulta na matriz identidade.\n",
        "    return True\n",
        "  except np.linalg.LinAlgError:\n",
        "    return False\n"
      ],
      "metadata": {
        "id": "1ZZ4DUmK_ZOD"
      },
      "execution_count": null,
      "outputs": []
    },
    {
      "cell_type": "code",
      "source": [
        "# Tranforma a mensagem em um vetor de números\n",
        "def transformacao_para_numeros(mensagem):\n",
        "  msg_numerica = []\n",
        "\n",
        "  for e in mensagem:\n",
        "    msg_numerica.append((ord(e))) # transforma de caracter para ascii\n",
        "\n",
        "  return msg_numerica\n"
      ],
      "metadata": {
        "id": "_VxyU_19-jlq"
      },
      "execution_count": null,
      "outputs": []
    },
    {
      "cell_type": "code",
      "source": [
        "# Transforma o vetor de números em uma matriz n x 3, agrupando-os\n",
        "def agrupa_numeros(mensagem):\n",
        "  lista = transformacao_para_numeros(mensagem)\n",
        "  if(len(lista) % 3 == 0):\n",
        "    linhas = len(lista) // 3\n",
        "  else:\n",
        "    linhas = (len(lista) // 3) + 1\n",
        "    zeros = linhas * 3 - len(lista)\n",
        "    for z in range(zeros):\n",
        "      lista.append(0)\n",
        "\n",
        "  k = 0\n",
        "  matriz = [[0] * 3 for l in range(linhas)]\n",
        "\n",
        "  for i in range(linhas):\n",
        "    for j in range(3):\n",
        "      matriz[i][j] = lista[k]\n",
        "      k += 1\n",
        "  return(matriz)\n"
      ],
      "metadata": {
        "id": "OAsQL20f-1lE"
      },
      "execution_count": null,
      "outputs": []
    },
    {
      "cell_type": "code",
      "source": [
        "# Cria uma chave aleatória\n",
        "def cria_chave():\n",
        "  chave = np.empty((3, 3))\n",
        "  for i in range(3):\n",
        "    for j in range(3):\n",
        "      chave[i][j] = random.randint(0, 254)\n",
        "  if np.linalg.det(chave) % 255 == 0: # Função utilizada para calcular a determinante, há varios processos para obte-la mas na funcao é utilizada a eliminacao de Gauss\n",
        "    cria_chave()\n",
        "\n",
        "  return chave\n"
      ],
      "metadata": {
        "id": "DydqCOFP_Lwk"
      },
      "execution_count": null,
      "outputs": []
    },
    {
      "cell_type": "code",
      "source": [
        "# Codifica a mensagem multiplicando a matriz obtida com a chave\n",
        "def codifica_matriz(mensagem, chave):\n",
        "  matriz = agrupa_numeros(mensagem)\n",
        "  return np.dot(matriz, chave) # Funcao que multiplica duas matrizes\n"
      ],
      "metadata": {
        "id": "4nuLBvHw--a3"
      },
      "execution_count": null,
      "outputs": []
    },
    {
      "cell_type": "code",
      "source": [
        "# Decodifica a partir da mensagem encriptada e da chave\n",
        "def decodifica_matriz(codigo, chave):\n",
        "  inv_matriz = np.linalg.inv(chave)\n",
        "  matriz_n = np.dot(codigo, inv_matriz)\n",
        "\n",
        "  linhas = len(matriz_n)\n",
        "  f_original = []\n",
        "\n",
        "  matriz = np.round(matriz_n).astype(int)\n",
        "\n",
        "  for i in range(linhas):\n",
        "    for j in range(3):\n",
        "      if matriz[i][j] != 0:\n",
        "        elemento = chr(matriz[i][j]) # Transforma de ascii para caracter\n",
        "        f_original.append(elemento)\n",
        "\n",
        "  return f_original\n"
      ],
      "metadata": {
        "id": "1dRoQqf5_IEV"
      },
      "execution_count": null,
      "outputs": []
    },
    {
      "cell_type": "code",
      "source": [
        "#Bloco principal\n",
        "print(\"-------------Criptografia-------------\")\n",
        "print(\"Codificar com chave aleatória [aleatoria]\")\n",
        "print(\"Codificar com chave do usúario [usuario]\")\n",
        "print(\"Decodificar [decodificar]\")\n",
        "\n",
        "operacao = str(input(\"Qual opção você deseja?: \"))\n",
        "\n",
        "if (operacao == \"aleatoria\"):\n",
        "  mensagem = str(input(\"Digite sua mensagem: \"))\n",
        "  chave = cria_chave()\n",
        "  print(\"----------------------Esta é a chave---------------------- \\n\", chave)\n",
        "\n",
        "  print(\"----------------------Matriz codificada---------------------- \\n\")\n",
        "  resultado = codifica_matriz(mensagem, chave)\n",
        "  print(resultado)\n",
        "  print(\"----------------------Matriz decodificada---------------------- \\n\", ''.join(decodifica_matriz(resultado, chave)))\n",
        "\n",
        "elif (operacao == \"usuario\"):\n",
        "  mensagem = str(input(\"Digite sua mensagem: \"))\n",
        "  chave = [[0] * 3 for l in range(3)]\n",
        "\n",
        "  print(\"----------------------Digite sua chave inversível-----------------\")\n",
        "  for i in range(3):\n",
        "    for j in range(3):\n",
        "        chave[i][j] = int(input(f'Digite o valor para a posição ({i+1}, {j+1}): '))\n",
        "\n",
        "  if not verifica_inversibilidade(chave):\n",
        "    print(\"Essa matriz não é inversível\")\n",
        "  else:\n",
        "    print(\"----------------------Matriz codificada---------------------- \\n\")\n",
        "    resultado = codifica_matriz(mensagem, chave)\n",
        "    print(resultado)\n",
        "    print(\"----------------------Matriz decodificada---------------------- \\n\", ''.join(decodifica_matriz(resultado, chave)))\n",
        "\n",
        "elif (operacao == \"decodificar\"):\n",
        "  lin = int(input(\"Quantas linhas tem seu código criptografado? \"))\n",
        "  codigo = [[0] * 3 for l in range(lin)]\n",
        "  chave = [[0] * 3 for l in range(3)]\n",
        "\n",
        "  print(\"Digite o código criptografado\\n\")\n",
        "  for i in range(lin):\n",
        "    for j in range(3):\n",
        "        codigo[i][j] = int(input(f'Digite o valor para a posição ({i+1}, {j+1}): '))\n",
        "\n",
        "  print(\"Digite a sua chave\\n\")\n",
        "  for i in range(3):\n",
        "    for j in range(3):\n",
        "        chave[i][j] = int(input(f'Digite o valor para a posição ({i+1}, {j+1}): '))\n",
        "\n",
        "  if not verifica_inversibilidade(chave):\n",
        "    print(\"Essa matriz não é inversível\")\n",
        "  else:\n",
        "    print(decodifica_matriz(codigo, chave))\n",
        "\n",
        "else:\n",
        "  print(\"Código inválido\")\n"
      ],
      "metadata": {
        "colab": {
          "base_uri": "https://localhost:8080/"
        },
        "id": "q-yuluaT_qWO",
        "outputId": "d2761e77-3bab-42f3-87d9-fbb3eda72efd"
      },
      "execution_count": null,
      "outputs": [
        {
          "output_type": "stream",
          "name": "stdout",
          "text": [
            "-------------Criptografia-------------\n",
            "Codificar com chave aleatória [aleatoria]\n",
            "Codificar com chave do usúario [usuario]\n",
            "Decodificar [decodificar]\n",
            "Qual opção você deseja?: aleatoria\n",
            "Digite sua mensagem: dfggfgiufsicjiahsajsd\n",
            "----------------------Esta é a chave---------------------- \n",
            " [[126. 233.  46.]\n",
            " [ 29. 230.  34.]\n",
            " [ 93. 254. 247.]]\n",
            "----------------------Matriz codificada---------------------- \n",
            "\n",
            "[[25137. 72922. 33509.]\n",
            " [25515. 73621. 33647.]\n",
            " [26109. 77283. 34002.]\n",
            " [26742. 76091. 33313.]\n",
            " [25422. 73486. 32405.]\n",
            " [25460. 75320. 32653.]\n",
            " [25991. 76548. 33486.]]\n",
            "----------------------Matriz decodificada---------------------- \n",
            " dfggfgiufsicjiahsajsd\n"
          ]
        }
      ]
    }
  ]
}